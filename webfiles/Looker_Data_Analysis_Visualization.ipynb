{
  "metadata": {
    "kernelspec": {
      "name": "SQLite",
      "display_name": "SQLite",
      "language": "sql"
    },
    "language_info": {
      "codemirror_mode": "sql",
      "file_extension": "",
      "mimetype": "",
      "name": "sql",
      "version": "3.32.3"
    }
  },
  "nbformat_minor": 4,
  "nbformat": 4,
  "cells": [
    {
      "cell_type": "markdown",
      "source": "# Google Lab: Analyzing and Visualizing Data in Looker\n\nLooker is a modern data platform in Google Cloud that lets you analyze and visualize your data interactively. You can use Looker to do in-depth data analysis, integrate insights across different data sources, build actionable data-driven workflows, and create custom data applications.\n\nIn this lab, you will learn how to use Looker to analyze and visualize data using Explores, which are data views created by LookML developers. For this lab, an Explore of the Federal Aviation Administration's (FAA) airports and flights data has been created for you. This dataset contains information on different attributes of airports and flights, such as city and departure date.\n\n### Objectives\n\nIn this lab, you will learn how to analyze and visualize data in Looker using Explores.\n\n* Use the Explore interface to access data curated by LookML developers.\n* Work with dimensions, measures, filters, and pivots to query and select data.\n* Select the appropriate visualization type to best display your data.\n* Save your visualizations to dashboards.",
      "metadata": {}
    },
    {
      "cell_type": "markdown",
      "source": "## Task 1. Create a single value visualization of the average elevation across all airports\n\nIn Looker, dimensions are unique attributes of the data that help you to describe data. For example, in the Airports Explore, the geographic location of the airport, city, and elevation are different dimensions. Measures are aggregations of one or more dimensions (or unique attributes of the data) such as a count or average.\n\nMeasures let you calculate your Key Performance Indicators (KPIs) and help you analyze your data using different attributes. You can use both Dimensions and Measures in Looker to slice and dice your data to achieve data insights.\n\nUsing the Airports Explore, you first determine the average elevation across all airport facilities and then display that number as a customized single value visualization. Then, you add this visualization to a new dashboard for airport data.\n\n### Steps\n1. Determine the average elevation across all airports\n2. Customize a single value visualization of the result\n3. Save the visualization to a new dashboard\n",
      "metadata": {}
    },
    {
      "cell_type": "markdown",
      "source": "## Task 2. Create a bar chart of the facility types with the highest average elevations\n\nIn this task, you identify the top five Facility Types with the highest average elevation and display the results as a bar chart. Then, you add this visualization to the dashboard you created in the previous task.\n\n### Steps\n1. Identify the top five Facility Types with the highest average elevation\n2. Customize a bar chart to display the results\n3. Save the visualization to an existing dashboard",
      "metadata": {}
    },
    {
      "cell_type": "markdown",
      "source": "## Dashboard Created From Tasks 1 And 2\n![Airports Dashboard](Looker_Airports.png)",
      "metadata": {
        "tags": [],
        "editable": true,
        "slideshow": {
          "slide_type": ""
        }
      },
      "attachments": {}
    },
    {
      "cell_type": "markdown",
      "source": "## Task 3. Create a line chart of the number of flights cancelled each week in a given year\n\nTime dimensions let you analyze data at a specific point in time. You can combine this with filters to subselect data, resulting in the ability to analyze seasonality or week over week metrics for a given year.\n\nUsing the Flights Explore, you first find the number of flights that were cancelled each week in the year 2004 and display the results as a line chart. Then, you add this visualization to a new dashboard for flight data.\n\n### Steps\n1. Calculate the number of flights that were cancelled each week in 2004\n2. Customize a line chart to display the results\n3. Save the visualization to a new dashboard",
      "metadata": {
        "tags": [],
        "editable": true,
        "slideshow": {
          "slide_type": ""
        }
      }
    },
    {
      "cell_type": "markdown",
      "source": "## Task 4. Create a line chart of the number of flights scheduled to depart each week by distance tier\n\nPivots allow you to create a matrix of your data, similar to a pivot table in a spreadsheet software. This allows you to leverage multi-dimensional data to answer your questions.\n\nIn this task, you first find the number of flights scheduled to depart in each week of the year 2003 by distance tier. Then, you create a line chart to display the results and add this visualization to the dashboard you created in the previous task.\n\n### Steps\n1. Calculate the number of flights scheduled to depart each week in 2003 by distance tier\n2. Customize a line chart to display the results\n3. Save the visualization to an existing dashboard",
      "metadata": {}
    },
    {
      "cell_type": "markdown",
      "source": "## Dashboard Created From Tasks 3 And 4\n\n![Airports and Flights Dashboard](Looker_Airports_Flights.png)",
      "metadata": {},
      "attachments": {}
    },
    {
      "cell_type": "markdown",
      "source": "## Conclusion\n\nLooker is an impressive platform that lets you interact with your data in a simple yet powerful format. I fulfilled the stated objectives and enjoyed doing so!\n\n* [x] Use the Explore interface to access data curated by LookML developers.\n* [x] Work with dimensions, measures, filters, and pivots to query and select data.\n* [x] Select the appropriate visualization type to best display your data.\n* [x] Save your visualizations to dashboards.",
      "metadata": {}
    }
  ]
}
